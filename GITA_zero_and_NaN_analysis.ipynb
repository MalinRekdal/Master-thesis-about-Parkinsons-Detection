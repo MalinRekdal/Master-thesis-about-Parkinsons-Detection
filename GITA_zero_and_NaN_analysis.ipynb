{
 "cells": [
  {
   "cell_type": "markdown",
   "metadata": {},
   "source": [
    "# Investigating the amount of Zero and NaN values for the GITA database "
   ]
  },
  {
   "cell_type": "markdown",
   "metadata": {},
   "source": [
    "# Imports"
   ]
  },
  {
   "cell_type": "code",
   "execution_count": 1,
   "metadata": {
    "ExecuteTime": {
     "end_time": "2023-12-11T20:52:08.702027800Z",
     "start_time": "2023-12-11T20:52:08.677027600Z"
    }
   },
   "outputs": [],
   "source": [
    "import os\n",
    "import numpy as np\n",
    "import pandas as pd\n",
    "\n",
    "\n",
    "from functions import *\n",
    "from definition_of_data_and_feature_groups import *\n",
    "from constants import *\n"
   ]
  },
  {
   "cell_type": "markdown",
   "metadata": {},
   "source": [
    "# Setup for the experiment "
   ]
  },
  {
   "cell_type": "markdown",
   "metadata": {},
   "source": [
    "### Things to choose: "
   ]
  },
  {
   "cell_type": "code",
   "execution_count": 2,
   "metadata": {},
   "outputs": [
    {
     "name": "stdout",
     "output_type": "stream",
     "text": [
      "213\n",
      "619\n"
     ]
    }
   ],
   "source": [
    "###########################################\n",
    "\n",
    "# Seed number \n",
    "seed_number = 42\n",
    "np.random.seed(seed_number) \n",
    "\n",
    "# Features \n",
    "features_for_model = all_features # phonation_all_features # [] or [articulation_all_features + phonation_all_features + prosody_all_features]\n",
    "\n",
    "print(len(ZOF))\n",
    "print(len(all_features))\n",
    "\n",
    "# Utterances \n",
    "utterance_type =  [\"\"] # [\"\"] # [\"Vowels\", \"modulated_vowels\"] or etc. \n",
    "specific_utterance = [\"\"] # [\"a\", \"viaje\"] or etc. \n",
    "\n",
    "feature_sheet_name = \"GITA-all\" # \"GITA-all\" # \"EWA-100\" # EWA-balanced-69 # Sheet name we want to get features from. \n",
    "fold_file = \"kfold-groups-tsv.csv\"\n",
    "\n",
    "###########################################"
   ]
  },
  {
   "cell_type": "markdown",
   "metadata": {},
   "source": [
    "# Data processing \n",
    "- Get features, metadata and fold info\n",
    "- Change all ID columns to be on the same form as fold info --> Like: \"ID\" and \"A0013 or AC0013\"\n",
    "- Add metadata columns to feature info \n",
    "- Restructure the data."
   ]
  },
  {
   "cell_type": "code",
   "execution_count": 3,
   "metadata": {},
   "outputs": [],
   "source": [
    "\n",
    "feature_path = personal_path_to_code + '/Features.xlsx'   # Defines path to feature folder to use. \n",
    "features = pd.read_excel(feature_path, sheet_name=feature_sheet_name, index_col=0)\n",
    "\n",
    "metadata_path = os.path.join(personal_path_to_PC_GITA,'PCGITA_metadata.xlsx')\n",
    "metadata = pd.read_excel(metadata_path)\n",
    "\n",
    "fold_info_path = os.path.join(personal_path_to_balanced_folds, fold_file) # File where we have the fold distribution saved. \n",
    "fold_info = pd.read_csv(fold_info_path)\n",
    "\n",
    "metadata = restructure_id(metadata)\n",
    "\n",
    "metadata_columns =  [\"SEX\", \"AGE\"] \n",
    "fold_info_columns = [\"Fold\"]\n",
    "feature_info_columns = [\"ID\", \"Utterance\", \"Utterance type\", \"Group\"]\n",
    "\n",
    "# patient_info_columns will be used later on to remove all metadata and then also want to remove id. \n",
    "patient_info_columns = feature_info_columns + metadata_columns + fold_info_columns\n",
    "\n",
    "# Add metadata and fold info: \n",
    "features = add_columns_to_dataframe(features, metadata, metadata_columns)\n",
    "features = add_columns_to_dataframe(features, fold_info, fold_info_columns)\n",
    "\n",
    "\n",
    "# Sorting out the data and features we want to use: \n",
    "if utterance_type != [\"\"]: # If defined utterance sub groups (like vowels or words or combinations)\n",
    "        features = features[features[\"Utterance type\"].isin(utterance_type)]\n",
    "\n",
    "if specific_utterance != [\"\"]: # If defined specific utterances (like \"a\" or \"viaje\" or combinations)\n",
    "        features = features[features[\"Utterance\"].isin(specific_utterance)]\n",
    "\n",
    "if features_for_model:\n",
    "        features = features.loc[:, features_for_model + patient_info_columns]\n",
    "        \n"
   ]
  },
  {
   "cell_type": "code",
   "execution_count": 4,
   "metadata": {},
   "outputs": [
    {
     "name": "stdout",
     "output_type": "stream",
     "text": [
      " PARKINSONS \n",
      "Number of Zero values: 721225\n",
      "Number of NaN values: 10168\n",
      "Total number of values from features:  1948612\n",
      " \n",
      " HEALTHY \n",
      "Number of Zero values: 680015\n",
      "Number of NaN values: 10254\n",
      "Total number of values from features:  1948612\n"
     ]
    }
   ],
   "source": [
    "# ZERO VALUES FOR HC AND PD: \n",
    "\n",
    "pd = features[features['Group'] == 1]\n",
    "hc = features[features['Group'] == 0]\n",
    "\n",
    "zero_analysis_pd = pd.loc[:, features_for_model]\n",
    "zero_analysis_hc = hc.loc[:, features_for_model]\n",
    "\n",
    "print(\" PARKINSONS \")\n",
    "print(\"Number of Zero values:\", (zero_analysis_pd == 0).sum().sum())\n",
    "print(\"Number of NaN values:\", zero_analysis_pd.isna().sum().sum())\n",
    "print(\"Total number of values from features: \", zero_analysis_pd.size)\n",
    "\n",
    "print(\" \")\n",
    "print(\" HEALTHY \")\n",
    "print(\"Number of Zero values:\", (zero_analysis_hc == 0).sum().sum())\n",
    "print(\"Number of NaN values:\", zero_analysis_hc.isna().sum().sum())\n",
    "print(\"Total number of values from features: \", zero_analysis_hc.size)\n"
   ]
  },
  {
   "cell_type": "code",
   "execution_count": 5,
   "metadata": {},
   "outputs": [
    {
     "name": "stdout",
     "output_type": "stream",
     "text": [
      "Number of Zero values: 1401240\n",
      "Total number of values from features:  3897224\n",
      "Columns with Zero values: ['avg BBEoff_1', 'avg BBEoff_2', 'avg BBEoff_3', 'avg BBEoff_4', 'avg BBEoff_5', 'avg BBEoff_6', 'avg BBEoff_7', 'avg BBEoff_8', 'avg BBEoff_9', 'avg BBEoff_10', 'avg BBEoff_11', 'avg BBEoff_12', 'avg BBEoff_13', 'avg BBEoff_14', 'avg BBEoff_15', 'avg BBEoff_16', 'avg BBEoff_17', 'avg BBEoff_18', 'avg BBEoff_19', 'avg BBEoff_20', 'avg BBEoff_21', 'avg BBEoff_22', 'avg MFCCoff_1', 'avg MFCCoff_2', 'avg MFCCoff_3', 'avg MFCCoff_4', 'avg MFCCoff_5', 'avg MFCCoff_6', 'avg MFCCoff_7', 'avg MFCCoff_9', 'avg MFCCoff_10', 'avg MFCCoff_11', 'avg MFCCoff_12', 'avg F1', 'avg DF1', 'avg DDF1', 'avg F2', 'avg DF2', 'avg DDF2', 'std BBEoff_1', 'std BBEoff_2', 'std BBEoff_3', 'std BBEoff_4', 'std BBEoff_5', 'std BBEoff_6', 'std BBEoff_7', 'std BBEoff_8', 'std BBEoff_9', 'std BBEoff_10', 'std BBEoff_11', 'std BBEoff_12', 'std BBEoff_13', 'std BBEoff_14', 'std BBEoff_15', 'std BBEoff_16', 'std BBEoff_17', 'std BBEoff_18', 'std BBEoff_19', 'std BBEoff_20', 'std BBEoff_21', 'std BBEoff_22', 'std F1', 'std DF1', 'std DDF1', 'std F2', 'std DF2', 'std DDF2', 'skewness F1', 'skewness DF1', 'skewness DDF1', 'skewness F2', 'skewness DF2', 'skewness DDF2', 'kurtosis BBEoff_1', 'kurtosis BBEoff_2', 'kurtosis BBEoff_3', 'kurtosis BBEoff_4', 'kurtosis BBEoff_5', 'kurtosis BBEoff_6', 'kurtosis BBEoff_7', 'kurtosis BBEoff_8', 'kurtosis BBEoff_9', 'kurtosis BBEoff_10', 'kurtosis BBEoff_11', 'kurtosis BBEoff_12', 'kurtosis BBEoff_13', 'kurtosis BBEoff_14', 'kurtosis BBEoff_15', 'kurtosis BBEoff_16', 'kurtosis BBEoff_17', 'kurtosis BBEoff_18', 'kurtosis BBEoff_19', 'kurtosis BBEoff_20', 'kurtosis BBEoff_21', 'kurtosis BBEoff_22', 'kurtosis MFCCoff_1', 'kurtosis MFCCoff_2', 'kurtosis MFCCoff_3', 'kurtosis MFCCoff_4', 'kurtosis MFCCoff_5', 'kurtosis MFCCoff_8', 'kurtosis MFCCoff_10', 'kurtosis MFCCoff_11', 'kurtosis F1', 'kurtosis DF1', 'kurtosis DDF1', 'kurtosis F2', 'kurtosis DF2', 'kurtosis DDF2', 'avg DF0', 'avg DDF0', 'avg Jitter', 'avg Shimmer', 'avg apq', 'avg ppq', 'avg logE', 'std DF0', 'std Jitter', 'std Shimmer', 'std logE', 'skewness Jitter', 'skewness Shimmer', 'skewness logE', 'kurtosis DF0', 'kurtosis DDF0', 'kurtosis Jitter', 'kurtosis Shimmer', 'kurtosis apq', 'kurtosis ppq', 'kurtosis logE', 'F0avg', 'F0std', 'F0max', 'F0min', 'F0skew', 'F0kurt', 'F0tiltavg', 'F0mseavg', 'F0tiltmax', 'F0msemax', 'F0tiltmin', 'F0tiltku', 'F0mseku', '1F0mean', '1F0max', '1F0min', '1F0ku', 'lastF0avg', 'lastF0max', 'lastF0min', 'lastF0ku']\n",
      "Amount of diff columns with Zero:  151\n"
     ]
    }
   ],
   "source": [
    "# zero analysis: \n",
    "\n",
    "zero_analysis = features.loc[:, features_for_model]\n",
    "\n",
    "# print(\"Number of Zero values:\", (f_test_nan == 0).sum().sum())\n",
    "print(\"Number of Zero values:\", (zero_analysis == 0).sum().sum())\n",
    "print(\"Total number of values from features: \", zero_analysis.size)\n",
    "\n",
    "columns_with_nan = zero_analysis.columns[~(zero_analysis == 0).any()].tolist()\n",
    "\n",
    "print(\"Columns with Zero values:\", (columns_with_nan))\n",
    "print(\"Amount of diff columns with Zero: \", len(columns_with_nan))"
   ]
  },
  {
   "cell_type": "code",
   "execution_count": 6,
   "metadata": {},
   "outputs": [
    {
     "name": "stdout",
     "output_type": "stream",
     "text": [
      "Number of NaN values: 20422\n",
      "Total number of values from features:  3897224\n",
      "Columns with NaN values: ['skewness MFCCon_9', 'skewness MFCCon_12', 'skewness DMFCCon_9', 'skewness DMFCCon_12', 'skewness MFCCoff_1', 'skewness MFCCoff_2', 'skewness MFCCoff_3', 'skewness MFCCoff_4', 'skewness MFCCoff_5', 'skewness MFCCoff_6', 'skewness MFCCoff_7', 'skewness MFCCoff_8', 'skewness MFCCoff_9', 'skewness MFCCoff_10', 'skewness MFCCoff_11', 'skewness MFCCoff_12', 'skewness DMFCCoff_1', 'skewness DMFCCoff_2', 'skewness DMFCCoff_3', 'skewness DMFCCoff_4', 'skewness DMFCCoff_5', 'skewness DMFCCoff_6', 'skewness DMFCCoff_7', 'skewness DMFCCoff_8', 'skewness DMFCCoff_9', 'skewness DMFCCoff_10', 'skewness DMFCCoff_11', 'skewness DMFCCoff_12', 'skewness DDMFCCoff_9', 'kurtosis MFCCon_9', 'kurtosis MFCCon_12', 'kurtosis DMFCCon_9', 'kurtosis DMFCCon_12', 'kurtosis MFCCoff_1', 'kurtosis MFCCoff_2', 'kurtosis MFCCoff_3', 'kurtosis MFCCoff_4', 'kurtosis MFCCoff_5', 'kurtosis MFCCoff_6', 'kurtosis MFCCoff_7', 'kurtosis MFCCoff_8', 'kurtosis MFCCoff_9', 'kurtosis MFCCoff_10', 'kurtosis MFCCoff_11', 'kurtosis MFCCoff_12', 'kurtosis DMFCCoff_1', 'kurtosis DMFCCoff_2', 'kurtosis DMFCCoff_3', 'kurtosis DMFCCoff_4', 'kurtosis DMFCCoff_5', 'kurtosis DMFCCoff_6', 'kurtosis DMFCCoff_7', 'kurtosis DMFCCoff_8', 'kurtosis DMFCCoff_9', 'kurtosis DMFCCoff_10', 'kurtosis DMFCCoff_11', 'kurtosis DMFCCoff_12', 'kurtosis DDMFCCoff_9', 'avg ppq', 'std ppq', 'skewness DDF0', 'skewness apq', 'skewness ppq', 'kurtosis DDF0', 'kurtosis apq', 'kurtosis ppq', 'F0tiltskw', 'F0mseskw', 'F0tiltku', 'F0mseku', '1F0skw', '1F0ku', 'lastF0skw', 'lastF0ku', 'skwtiltEvoiced', 'kurtosistiltEvoiced', 'skwmseEvoiced', 'kurtosismseEvoiced', 'skw1Evoiced', 'kurtosis1Evoiced', 'skwlastEvoiced', 'kurtosislastEvoiced', 'avgEunvoiced', 'stdEunvoiced', 'skwEunvoiced', 'kurtosisEunvoiced', 'avgtiltEunvoiced', 'stdtiltEunvoiced', 'skwtiltEunvoiced', 'kurtosistiltEunvoiced', 'avgmseEunvoiced', 'stdmseEunvoiced', 'skwmseEunvoiced', 'kurtosismseEunvoiced', 'skw1Eunvoiced', 'kurtosis1Eunvoiced', 'skwlastEunvoiced', 'kurtosislastEunvoiced', 'skwdurvoiced', 'kurtosisdurvoiced', 'skwdurunvoiced', 'kurtosisdurunvoiced', 'skwdurpause', 'kurtosisdurpause']\n",
      "Amount of diff columns with nan:  104\n",
      "Amount from each column number: \n",
      "F0tiltskw                2979\n",
      "F0mseskw                 2979\n",
      "F0tiltku                 2979\n",
      "F0mseku                  2979\n",
      "skwtiltEunvoiced          668\n",
      "kurtosistiltEunvoiced     668\n",
      "skwmseEunvoiced           672\n",
      "kurtosismseEunvoiced      672\n",
      "skw1Eunvoiced             651\n",
      "kurtosis1Eunvoiced        651\n",
      "dtype: int64\n",
      "Unique utterance types with NaN.  ['DDK_analysis', 'monologue', 'read_text', 'sentences', 'sentences2', 'Words', 'modulated_vowels', 'Vowels']\n",
      "Unique number of utterance types with NaN.  8\n"
     ]
    }
   ],
   "source": [
    "# Nan analysis: \n",
    "\n",
    "nan_analysis = features.loc[:, features_for_model]\n",
    "\n",
    "# print(\"Number of Zero values:\", (f_test_nan == 0).sum().sum())\n",
    "print(\"Number of NaN values:\", nan_analysis.isna().sum().sum())\n",
    "print(\"Total number of values from features: \", nan_analysis.size)\n",
    "\n",
    "f_test_nan = features.loc[:, features_for_model + [\"Utterance type\"]]\n",
    "\n",
    "\n",
    "columns_with_nan = f_test_nan.columns[f_test_nan.isna().any()].tolist()\n",
    "\n",
    "print(\"Columns with NaN values:\", (columns_with_nan))\n",
    "print(\"Amount of diff columns with nan: \", len(columns_with_nan))\n",
    "\n",
    "nan_counts = f_test_nan.isna().sum()\n",
    "print(\"Amount from each column number: \")\n",
    "print(nan_counts[nan_counts > 500])\n",
    "\n",
    "rows_with_nan = f_test_nan[f_test_nan.isna().any(axis=1)]\n",
    "\n",
    "utterance_types_with_nan = list(np.array(rows_with_nan['Utterance type']))\n",
    "\n",
    "unique_list = []\n",
    "for item in utterance_types_with_nan:\n",
    "    if item not in unique_list:\n",
    "        unique_list.append(item)\n",
    "\n",
    "print(\"Unique utterance types with NaN. \", unique_list)\n",
    "print(\"Unique number of utterance types with NaN. \", len(unique_list))"
   ]
  },
  {
   "cell_type": "code",
   "execution_count": 7,
   "metadata": {},
   "outputs": [
    {
     "name": "stdout",
     "output_type": "stream",
     "text": [
      "Number of Zero values: 1401240\n",
      "Number of NaN values: 20422\n",
      "Total number of values from features:  3897224\n"
     ]
    }
   ],
   "source": [
    "# Remove NaN\n",
    "features = remove_NaN(features, patient_info_columns, print_out = True)"
   ]
  },
  {
   "cell_type": "code",
   "execution_count": 8,
   "metadata": {},
   "outputs": [
    {
     "name": "stdout",
     "output_type": "stream",
     "text": [
      " PARKINSONS \n",
      "Number of Zero values: 731393\n",
      "Number of NaN values: 0\n",
      "Total number of values from features:  1948612\n",
      " \n",
      " HEALTHY \n",
      "Number of Zero values: 690269\n",
      "Number of NaN values: 0\n",
      "Total number of values from features:  1948612\n"
     ]
    }
   ],
   "source": [
    "# ZERO VALUES FOR HC AND PD AFTER CHANGING NAN TO ZERO: \n",
    "\n",
    "pd = features[features['Group'] == 1]\n",
    "hc = features[features['Group'] == 0]\n",
    "\n",
    "zero_analysis_pd = pd.loc[:, features_for_model]\n",
    "zero_analysis_hc = hc.loc[:, features_for_model]\n",
    "\n",
    "print(\" PARKINSONS \")\n",
    "print(\"Number of Zero values:\", (zero_analysis_pd == 0).sum().sum())\n",
    "print(\"Number of NaN values:\", zero_analysis_pd.isna().sum().sum())\n",
    "print(\"Total number of values from features: \", zero_analysis_pd.size)\n",
    "\n",
    "print(\" \")\n",
    "print(\" HEALTHY \")\n",
    "print(\"Number of Zero values:\", (zero_analysis_hc == 0).sum().sum())\n",
    "print(\"Number of NaN values:\", zero_analysis_hc.isna().sum().sum())\n",
    "print(\"Total number of values from features: \", zero_analysis_hc.size)\n"
   ]
  },
  {
   "cell_type": "code",
   "execution_count": 9,
   "metadata": {},
   "outputs": [
    {
     "name": "stdout",
     "output_type": "stream",
     "text": [
      "Number of Zero values: 1421662\n",
      "Total number of values from features:  3897224\n"
     ]
    }
   ],
   "source": [
    "# zero analysis after changing NaN values: \n",
    "\n",
    "zero_analysis = features.loc[:, features_for_model]\n",
    "\n",
    "# print(\"Number of Zero values:\", (f_test_nan == 0).sum().sum())\n",
    "print(\"Number of Zero values:\", (zero_analysis == 0).sum().sum())\n",
    "print(\"Total number of values from features: \", zero_analysis.size)\n",
    "\n",
    "columns_with_zeros_and_nan = zero_analysis.columns[(zero_analysis == 0).any()].tolist()\n",
    "columns_without_zeros_and_nan = zero_analysis.columns[~(zero_analysis == 0).any()].tolist()\n",
    "\n",
    "\n",
    "# print(\"Columns with Zero values:\", (columns_with_zeros_and_nan))\n",
    "# print(\"Amount of diff columns with Zero: \", len(columns_with_zeros_and_nan))\n",
    "\n",
    "# print(\"Columns without Zero values:\", (columns_without_zeros_and_nan))\n",
    "# print(\"Amount of diff columns with out Zero: \", len(columns_without_zeros_and_nan))"
   ]
  }
 ],
 "metadata": {
  "kernelspec": {
   "display_name": "disenv",
   "language": "python",
   "name": "python3"
  },
  "language_info": {
   "codemirror_mode": {
    "name": "ipython",
    "version": 3
   },
   "file_extension": ".py",
   "mimetype": "text/x-python",
   "name": "python",
   "nbconvert_exporter": "python",
   "pygments_lexer": "ipython3",
   "version": "3.11.5"
  }
 },
 "nbformat": 4,
 "nbformat_minor": 2
}
